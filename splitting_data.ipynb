{
 "cells": [
  {
   "cell_type": "code",
   "execution_count": 68,
   "metadata": {
    "ExecuteTime": {
     "end_time": "2021-10-13T13:48:49.742958Z",
     "start_time": "2021-10-13T13:48:48.460612Z"
    }
   },
   "outputs": [
    {
     "data": {
      "text/html": [
       "<div>\n",
       "<style scoped>\n",
       "    .dataframe tbody tr th:only-of-type {\n",
       "        vertical-align: middle;\n",
       "    }\n",
       "\n",
       "    .dataframe tbody tr th {\n",
       "        vertical-align: top;\n",
       "    }\n",
       "\n",
       "    .dataframe thead th {\n",
       "        text-align: right;\n",
       "    }\n",
       "</style>\n",
       "<table border=\"1\" class=\"dataframe\">\n",
       "  <thead>\n",
       "    <tr style=\"text-align: right;\">\n",
       "      <th></th>\n",
       "      <th>photo_filename</th>\n",
       "      <th>width</th>\n",
       "      <th>height</th>\n",
       "      <th>class</th>\n",
       "      <th>xmin</th>\n",
       "      <th>ymin</th>\n",
       "      <th>xmax</th>\n",
       "      <th>ymax</th>\n",
       "    </tr>\n",
       "  </thead>\n",
       "  <tbody>\n",
       "    <tr>\n",
       "      <th>0</th>\n",
       "      <td>charlotte_1019088214340003257_20150630.jpg</td>\n",
       "      <td>640</td>\n",
       "      <td>640</td>\n",
       "      <td>Nike</td>\n",
       "      <td>339</td>\n",
       "      <td>394</td>\n",
       "      <td>381</td>\n",
       "      <td>439</td>\n",
       "    </tr>\n",
       "    <tr>\n",
       "      <th>1</th>\n",
       "      <td>charlotte_1056018576661922536_20150820.jpg</td>\n",
       "      <td>640</td>\n",
       "      <td>640</td>\n",
       "      <td>Nike</td>\n",
       "      <td>497</td>\n",
       "      <td>0</td>\n",
       "      <td>574</td>\n",
       "      <td>30</td>\n",
       "    </tr>\n",
       "    <tr>\n",
       "      <th>2</th>\n",
       "      <td>charlotte_1057610050380125945_20150823.jpg</td>\n",
       "      <td>1080</td>\n",
       "      <td>1080</td>\n",
       "      <td>Nike</td>\n",
       "      <td>353</td>\n",
       "      <td>406</td>\n",
       "      <td>473</td>\n",
       "      <td>477</td>\n",
       "    </tr>\n",
       "    <tr>\n",
       "      <th>3</th>\n",
       "      <td>charlotte_1061715143228072770_20150828.jpg</td>\n",
       "      <td>1080</td>\n",
       "      <td>1349</td>\n",
       "      <td>Nike</td>\n",
       "      <td>13</td>\n",
       "      <td>51</td>\n",
       "      <td>330</td>\n",
       "      <td>198</td>\n",
       "    </tr>\n",
       "    <tr>\n",
       "      <th>4</th>\n",
       "      <td>charlotte_1081463278280976819_20150925.jpg</td>\n",
       "      <td>612</td>\n",
       "      <td>612</td>\n",
       "      <td>Nike</td>\n",
       "      <td>485</td>\n",
       "      <td>30</td>\n",
       "      <td>580</td>\n",
       "      <td>69</td>\n",
       "    </tr>\n",
       "  </tbody>\n",
       "</table>\n",
       "</div>"
      ],
      "text/plain": [
       "                               photo_filename  width  height class  xmin  \\\n",
       "0  charlotte_1019088214340003257_20150630.jpg    640     640  Nike   339   \n",
       "1  charlotte_1056018576661922536_20150820.jpg    640     640  Nike   497   \n",
       "2  charlotte_1057610050380125945_20150823.jpg   1080    1080  Nike   353   \n",
       "3  charlotte_1061715143228072770_20150828.jpg   1080    1349  Nike    13   \n",
       "4  charlotte_1081463278280976819_20150925.jpg    612     612  Nike   485   \n",
       "\n",
       "   ymin  xmax  ymax  \n",
       "0   394   381   439  \n",
       "1     0   574    30  \n",
       "2   406   473   477  \n",
       "3    51   330   198  \n",
       "4    30   580    69  "
      ]
     },
     "execution_count": 68,
     "metadata": {},
     "output_type": "execute_result"
    }
   ],
   "source": [
    "import pandas as pd\n",
    "import os\n",
    "import re\n",
    "\n",
    "annotations = pd.read_csv(\"DLCV_logo_project/annot_train.csv\")\n",
    "annotations['class'] = annotations['class'].apply(lambda x: re.sub(' ', '_', x))\n",
    "annotations['class'] = annotations['class'].apply(lambda x: re.sub('-', '_', x))\n",
    "annotations.head()"
   ]
  },
  {
   "cell_type": "code",
   "execution_count": 72,
   "metadata": {
    "ExecuteTime": {
     "end_time": "2021-10-13T14:31:16.683753Z",
     "start_time": "2021-10-13T14:31:15.392262Z"
    }
   },
   "outputs": [],
   "source": [
    "# annotations['class'].unique()\n",
    "annotations.to_csv('DLCV_logo_project/annotations.csv', index=False)"
   ]
  },
  {
   "cell_type": "code",
   "execution_count": 64,
   "metadata": {
    "ExecuteTime": {
     "end_time": "2021-10-13T12:52:29.795097Z",
     "start_time": "2021-10-13T12:52:29.438850Z"
    }
   },
   "outputs": [
    {
     "name": "stdout",
     "output_type": "stream",
     "text": [
      "Mandatory annotations: 21675\n",
      "Optional annotations: 24488\n"
     ]
    },
    {
     "name": "stderr",
     "output_type": "stream",
     "text": [
      "<ipython-input-64-c57fb8cbf5be>:6: SettingWithCopyWarning: \n",
      "A value is trying to be set on a copy of a slice from a DataFrame.\n",
      "Try using .loc[row_indexer,col_indexer] = value instead\n",
      "\n",
      "See the caveats in the documentation: https://pandas.pydata.org/pandas-docs/stable/user_guide/indexing.html#returning-a-view-versus-a-copy\n",
      "  annotations_optional['class'] = annotations_optional['class'].apply(lambda x: re.sub(' ', '_', x))\n",
      "<ipython-input-64-c57fb8cbf5be>:7: SettingWithCopyWarning: \n",
      "A value is trying to be set on a copy of a slice from a DataFrame.\n",
      "Try using .loc[row_indexer,col_indexer] = value instead\n",
      "\n",
      "See the caveats in the documentation: https://pandas.pydata.org/pandas-docs/stable/user_guide/indexing.html#returning-a-view-versus-a-copy\n",
      "  annotations_optional['class'] = annotations_optional['class'].apply(lambda x: re.sub('-', '_', x))\n"
     ]
    }
   ],
   "source": [
    "mandatory_classes = 'Nike, Adidas, Under_Armour, Puma, The_North_Face'.split(\", \")\n",
    "annotations_mandatory = annotations[annotations['class'].apply(lambda x: x in mandatory_classes)]\n",
    "annotations_optional = annotations[annotations['class'].apply(lambda x: x not in mandatory_classes)]\n",
    "print(f'Mandatory annotations: {len(annotations_mandatory)}\\nOptional annotations: {len(annotations_optional)}')\n",
    "\n",
    "annotations_mandatory.to_csv('annotations_mandatory.csv')\n",
    "annotations_optional.to_csv('annotations_optional.csv')"
   ]
  },
  {
   "cell_type": "code",
   "execution_count": 5,
   "metadata": {
    "ExecuteTime": {
     "end_time": "2021-10-13T11:30:56.401999Z",
     "start_time": "2021-10-13T11:30:35.854806Z"
    }
   },
   "outputs": [],
   "source": [
    "train_data_dir = os.path.join(os.getcwd(), 'DLCV_logo_project/train')\n",
    "train_pics = os.listdir(train_data_dir)\n",
    "\n",
    "# moving mandatory 5 logos to train/mandatory_logos folder\n",
    "mandatory_pics = [pic for pic in train_pics if pic in annotations_mandatory['photo_filename'].tolist()]\n",
    "os.mkdir(os.path.join(os.getcwd(), 'DLCV_logo_project/train/mandatory_logos'))\n",
    "mandatory_logos_dir = os.path.join(os.getcwd(), 'DLCV_logo_project/train/mandatory_logos')           \n",
    "for pic in mandatory_pics:\n",
    "    os.rename(os.path.join(train_data_dir, pic), os.path.join(mandatory_logos_dir, pic))"
   ]
  },
  {
   "cell_type": "code",
   "execution_count": 20,
   "metadata": {
    "ExecuteTime": {
     "end_time": "2021-10-13T11:38:41.357463Z",
     "start_time": "2021-10-13T11:38:15.159318Z"
    }
   },
   "outputs": [],
   "source": [
    "# moving optional 12 logos to train/mandatory_logos folder\n",
    "optional_logos_dir = os.path.join(os.getcwd(), 'DLCV_logo_project/train/optional_logos')   \n",
    "os.mkdir(optional_logos_dir)\n",
    "optional_pics = [pic for pic in train_pics if pic not in annotations_mandatory['photo_filename'].tolist()]\n",
    "for pic in optional_pics:\n",
    "    os.rename(os.path.join(train_data_dir, pic), os.path.join(optional_logos_dir, pic))"
   ]
  },
  {
   "cell_type": "code",
   "execution_count": 26,
   "metadata": {
    "ExecuteTime": {
     "end_time": "2021-10-13T11:44:37.640125Z",
     "start_time": "2021-10-13T11:44:37.566931Z"
    }
   },
   "outputs": [
    {
     "name": "stdout",
     "output_type": "stream",
     "text": [
      "Number of mandatory 5 classes train pics: 20974      \n",
      "Number of optional 12 classes train pics: 17939\n"
     ]
    }
   ],
   "source": [
    "print(f'Number of mandatory 5 classes train pics: {len(os.listdir(mandatory_logos_dir))}\\\n",
    "      \\nNumber of optional 12 classes train pics: {len(os.listdir(optional_logos_dir))}')"
   ]
  },
  {
   "cell_type": "code",
   "execution_count": 42,
   "metadata": {
    "ExecuteTime": {
     "end_time": "2021-10-13T12:01:16.794484Z",
     "start_time": "2021-10-13T12:01:09.984731Z"
    }
   },
   "outputs": [],
   "source": [
    "# splitting training in batches for Roboflow to process\n",
    "\n",
    "batch1_dir = os.path.join(os.getcwd(),'DLCV_logo_project/train/mandatory_logos/batch1')\n",
    "batch2_dir = os.path.join(os.getcwd(), 'DLCV_logo_project/train/mandatory_logos/batch2')\n",
    "batch3_dir = os.path.join(os.getcwd(),'DLCV_logo_project/train/mandatory_logos/batch3')\n",
    "os.mkdir(batch1_dir)\n",
    "os.mkdir(batch2_dir)\n",
    "os.mkdir(batch3_dir)\n",
    "\n",
    "for pic in [pic for pic in os.listdir(mandatory_logos_dir) if pic.endswith('jpg')][:7000]: # first 7000 pics\n",
    "    os.rename(os.path.join(mandatory_logos_dir, pic), os.path.join(batch1_dir, pic))\n",
    "for pic in [pic for pic in os.listdir(mandatory_logos_dir) if pic.endswith('jpg')][:7000]: # second 7000 pics\n",
    "    os.rename(os.path.join(mandatory_logos_dir, pic), os.path.join(batch2_dir, pic))\n",
    "for pic in [pic for pic in os.listdir(mandatory_logos_dir) if pic.endswith('jpg')]: # the rest\n",
    "    os.rename(os.path.join(mandatory_logos_dir, pic), os.path.join(batch3_dir, pic))"
   ]
  },
  {
   "cell_type": "code",
   "execution_count": 43,
   "metadata": {
    "ExecuteTime": {
     "end_time": "2021-10-13T12:02:06.421838Z",
     "start_time": "2021-10-13T12:02:06.358041Z"
    }
   },
   "outputs": [
    {
     "name": "stdout",
     "output_type": "stream",
     "text": [
      "Batch 1 size: 7645      \n",
      "Batch 2 size: 7000      \n",
      "Batch 3 size: 6329\n"
     ]
    }
   ],
   "source": [
    "print(f'Batch 1 size: {len(os.listdir(batch1_dir))}\\\n",
    "      \\nBatch 2 size: {len(os.listdir(batch2_dir))}\\\n",
    "      \\nBatch 3 size: {len(os.listdir(batch3_dir))}')"
   ]
  }
 ],
 "metadata": {
  "kernelspec": {
   "display_name": "Python 3",
   "language": "python",
   "name": "python3"
  },
  "language_info": {
   "codemirror_mode": {
    "name": "ipython",
    "version": 3
   },
   "file_extension": ".py",
   "mimetype": "text/x-python",
   "name": "python",
   "nbconvert_exporter": "python",
   "pygments_lexer": "ipython3",
   "version": "3.8.3"
  },
  "toc": {
   "base_numbering": 1,
   "nav_menu": {},
   "number_sections": true,
   "sideBar": true,
   "skip_h1_title": false,
   "title_cell": "Table of Contents",
   "title_sidebar": "Contents",
   "toc_cell": false,
   "toc_position": {},
   "toc_section_display": true,
   "toc_window_display": false
  }
 },
 "nbformat": 4,
 "nbformat_minor": 4
}
